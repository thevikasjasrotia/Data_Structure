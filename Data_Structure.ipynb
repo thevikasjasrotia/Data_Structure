{
  "nbformat": 4,
  "nbformat_minor": 0,
  "metadata": {
    "colab": {
      "provenance": []
    },
    "kernelspec": {
      "name": "python3",
      "display_name": "Python 3"
    },
    "language_info": {
      "name": "python"
    }
  },
  "cells": [
    {
      "cell_type": "code",
      "execution_count": null,
      "metadata": {
        "id": "aB1MUhJM13cs"
      },
      "outputs": [],
      "source": [
        "#Discuss string slicing and provide examples\n",
        "Slicing is obtaining a sub-string from the given string by slicing it respectively from start to end.\n",
        "or its can be from backword also.\n",
        "example a=\"Vikas Jasrotia\"\n",
        "        a[0]\n",
        "        # output is V\n",
        "Here if we want to from backword slicing\n",
        "        a[-1]\n",
        "        # output is a"
      ]
    },
    {
      "cell_type": "code",
      "source": [
        "# Explain the key features of lists in Python\n",
        "In list we can add, remove, or modify elements within a list using indexing and slicing.\n",
        "Lists are versatile for storing and managing collections that might change.\n",
        "List can store heterogenous data."
      ],
      "metadata": {
        "id": "gETHFLmk16o1"
      },
      "execution_count": null,
      "outputs": []
    },
    {
      "cell_type": "code",
      "source": [
        " # Describe how to access, modify, and delete elements in a list with examples\n",
        "a=[\"Vikas\",1,22,45]\n",
        "# access\n",
        "a[-1]\n",
        "# modify\n",
        "a[-1]=\"Sam\"\n",
        "# delete\n",
        "a.pop(0)"
      ],
      "metadata": {
        "id": "rnmg_NTi1613"
      },
      "execution_count": null,
      "outputs": []
    },
    {
      "cell_type": "code",
      "source": [
        " # Compare and contrast tuples and lists with examples\n",
        "List: Mutable; you can change, add, or remove elements after creation.\n",
        "      Defined with square brackets [].\n",
        "Tuple:Immutable; once created, elements cannot be modified.\n",
        "      Defined with parentheses ()."
      ],
      "metadata": {
        "id": "IRpMvWxO164Q"
      },
      "execution_count": null,
      "outputs": []
    },
    {
      "cell_type": "code",
      "source": [
        "# Describe the key features of sets and provide examples of their use.\n",
        "Automatically removes duplicate elements, which is helpful for filtering unique items from a collection.\n",
        "Stores elements in no particular order, and elements do not have a specific position\n",
        "You can add or remove elements using methods like add() and remove()\n",
        "Supports operations like union, intersection, difference, and symmetric difference, which are useful for mathematical set operations.\n",
        "Example Finding common items in two lists\n",
        "list1 = [\"apple\", \"banana\", \"cherry\"]\n",
        "list2 = [\"banana\", \"cherry\", \"date\"]\n",
        "common_fruits = set(list1) & set(list2)\n",
        "print(common_fruits)  # Output: {'banana', 'cherry'}"
      ],
      "metadata": {
        "id": "PzgzmJbI166k"
      },
      "execution_count": null,
      "outputs": []
    },
    {
      "cell_type": "code",
      "source": [
        "#Discuss the use cases of tuples and sets in Python programming\n",
        "Tuples\n",
        "When you need to store related values that should not change, tuples are a good choice.\n",
        "Due to their immutability, tuples are often faster and consume less memory than lists, so they can be a good choice for large collections of constant data.\n",
        "When you want to ensure data cannot be modified accidentally, tuples provide this protection.\n",
        "\n",
        "Set\n",
        "Sets automatically remove duplicates, making them a quick way to filter unique items from a list.\n",
        "Sets support mathematical operations like union, intersection, difference, and symmetric difference, which are useful for comparing collections.\n",
        "Sets can quickly filter out unique items from a large dataset, which is common in data analysis."
      ],
      "metadata": {
        "id": "STLUGhgp168j"
      },
      "execution_count": null,
      "outputs": []
    },
    {
      "cell_type": "code",
      "source": [
        "# Describe how to add, modify, and delete items in a dictionary with examples\n",
        "a={'name': \"vikas\", \"age\": 24}\n",
        "a[\"gender\"]= \"male\"  # add\n",
        "a\n",
        "\n",
        "# mofify\n",
        "a={'name': \"vikas\", \"age\": 24}\n",
        "a[\"name\"]= \"Sham\"\n",
        "a\n",
        "\n",
        "# delete\n",
        "a={'name': \"vikas\", \"age\": 24}\n",
        "a.pop('name')"
      ],
      "metadata": {
        "id": "DPdpZrot16-J"
      },
      "execution_count": null,
      "outputs": []
    },
    {
      "cell_type": "code",
      "source": [
        "# Discuss the importance of dictionary keys being immutable and provide examples.\n",
        "Fast Lookups: Python dictionaries are fast because they use a method called hashing to store keys. If keys could change, the dictionary wouldn't know where to find the values tied to those keys.\n",
        "Consistency: If keys could change, it would be hard to trust that the key you used will still work the same way, making the dictionary unreliable.\n",
        "Allowed Keys: Simple, unchangeable types like numbers, strings, and tuples (which are fixed lists) can be keys, but changeable types like lists or other dictionaries can't.\n",
        "\n",
        "Example:\n",
        "# Dictionary with tuple keys\n",
        "location_data = { (40.7128, -74.0060): \"New York\", (34.0522, -118.2437): \"Los Angeles\"}\n",
        "\n",
        "# Accessing a value with an immutable tuple key\n",
        "print(location_data[(40.7128, -74.0060)])  # Output: \"New York\"\n"
      ],
      "metadata": {
        "id": "kcoJFdhK17AC"
      },
      "execution_count": null,
      "outputs": []
    }
  ]
}